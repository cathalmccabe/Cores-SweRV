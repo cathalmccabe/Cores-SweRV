{
 "cells": [
  {
   "cell_type": "markdown",
   "metadata": {},
   "source": [
    "# Swerve\n"
   ]
  },
  {
   "cell_type": "code",
   "execution_count": 1,
   "metadata": {},
   "outputs": [
    {
     "name": "stdout",
     "output_type": "stream",
     "text": [
      "/bin/bash\r\n"
     ]
    }
   ],
   "source": [
    "!echo $SHELL"
   ]
  },
  {
   "cell_type": "code",
   "execution_count": 2,
   "metadata": {},
   "outputs": [
    {
     "name": "stdout",
     "output_type": "stream",
     "text": [
      "/home/osboxes/git/cathalmccabe/Cores-SweRV\n",
      "build_swerv_vivado.ipynb  getting_started_with_swerve.ipynb  release-notes.md\n",
      "configs\t\t\t  LICENSE\t\t\t     testbench\n",
      "design\t\t\t  nexys4png\t\t\t     tools\n",
      "docs\t\t\t  README.md\n"
     ]
    }
   ],
   "source": [
    "!pwd\n",
    "!dir"
   ]
  },
  {
   "cell_type": "code",
   "execution_count": 3,
   "metadata": {},
   "outputs": [
    {
     "name": "stdout",
     "output_type": "stream",
     "text": [
      "# SweRV RISC-V Core<sup>TM</sup> 1.4 from Western Digital\r\n",
      "\r\n",
      "This repository contains the SweRV Core<sup>TM</sup> 1.3 design RTL. The previous version can be found in [branch 1.3.](https://github.com/chipsalliance/Cores-SweRV/tree/branch1.3)\r\n",
      "The SweRV 1 series provides a 32-bit, machine-mode only, implementation of the RISC-V ISA including options I (base integer), M (multiply/divide) and C (compressed instructions from I and M).\r\n",
      "\r\n",
      "## License\r\n",
      "\r\n",
      "By contributing to this project, you agree that your contribution is governed by [Apache-2.0](LICENSE).  \r\n",
      "Files under the [tools](tools/) directory may be available under a different license. Please review individual file for details.\r\n",
      "\r\n",
      "## Directory Structure\r\n",
      "\r\n",
      "    ├── configs                 # Configurations Dir\r\n",
      "    │   └── snapshots           # Where generated configuration files are created\r\n",
      "    ├── design                  # Design root dir\r\n",
      "    │   ├── dbg                 #   Debugger\r\n",
      "    │   ├── dec                 #   Decode, Registers and Exceptions\r\n",
      "    │   ├── dmi                 #   DMI block\r\n",
      "    │   ├── exu                 #   EXU (ALU/MUL/DIV)\r\n",
      "    │   ├── ifu                 #   Fetch & Branch Prediction\r\n",
      "    │   ├── include             \r\n",
      "    │   ├── lib\r\n",
      "    │   └── lsu                 #   Load/Store\r\n",
      "    ├── docs\r\n",
      "    ├── tools                   # Scripts/Makefiles\r\n",
      "    └── testbench               # (Very) simple testbench\r\n",
      "        ├── asm                 #   Example assembly files\r\n",
      "        └── hex                 #   Canned demo hex files\r\n",
      " \r\n",
      "## Dependencies\r\n",
      "\r\n",
      "- Verilator **(3.926 or later)** must be installed on the system\r\n",
      "- If adding/removing instructions, espresso must be installed. Espresso is a logic minimization tool used in *tools/coredecode*.\r\n",
      "\r\n",
      "## Quickstart guide\r\n",
      "1. Clone the repository\r\n",
      "1. Setup RV_ROOT to point to the path in your local filesystem\r\n",
      "1. Determine your configuration {optional}\r\n",
      "1. Run make with tools/Makefile\r\n",
      "\r\n",
      "## Release Notes for this version\r\n",
      "Please see [release notes](release-notes.md) for changes and bug fixes in this version of SweRV\r\n",
      "\r\n",
      "### Configurations\r\n",
      "\r\n",
      "SweRV can be configured by running the `$RV_ROOT/configs/swerv.config` script:\r\n",
      "\r\n",
      "`% $RV_ROOT/configs/swerv.config -h` for detailed help options\r\n",
      "\r\n",
      "For example to build with a DCCM of size 64 :  \r\n",
      "\r\n",
      "`% $RV_ROOT/configs/swerv.config -dccm_size=64`  \r\n",
      "\r\n",
      "This will update the **default** snapshot in $RV_ROOT/configs/snapshots/default/ with parameters for a 64K DCCM.  \r\n",
      "\r\n",
      "Add `-snapshot=dccm64`, for example, if you wish to name your build snapshot *dccm64* and refer to it during the build.  \r\n",
      "\r\n",
      "This script derives the following consistent set of include files :  \r\n",
      "\r\n",
      "    $RV_ROOT/configs/snapshots/default\r\n",
      "    ├── common_defines.vh                       # `defines for testbench or design\r\n",
      "    ├── defines.h                               # #defines for C/assembly headers\r\n",
      "    ├── pd_defines.vh                           # `defines for physical design\r\n",
      "    ├── perl_configs.pl                         # Perl %configs hash for scripting\r\n",
      "    ├── pic_ctrl_verilator_unroll.sv            # Unrolled verilog based on PIC size\r\n",
      "    ├── pic_map_auto.h                          # PIC memory map based on configure size\r\n",
      "    └── whisper.json                            # JSON file for swerv-iss\r\n",
      "\r\n",
      "\r\n",
      "\r\n",
      "### Building a model\r\n",
      "1. Set the RV_ROOT environment variable to the root of the SweRV directory structure  \r\n",
      "\r\n",
      "    `RV_ROOT = /path/to/swerv`  \r\n",
      "    `export RV_ROOT`\r\n",
      "\r\n",
      "1. Create your configuration  \r\n",
      "\r\n",
      "    *(Skip if default is sufficient)*  \r\n",
      "    *(Name your snapshot to distinguish it from the default. Without an explicit name, it will update/override the **default** snapshot)*  \r\n",
      "    `$RV_ROOT/configs/swerv.config [configuration options..] -snapshot=mybuild`  \r\n",
      "\r\n",
      "    Snapshots are placed in `$RV_ROOT/configs/snapshots/<snapshot name>/` directory\r\n",
      "\r\n",
      "1. Build with **verilator**:  \r\n",
      "\r\n",
      "    `make -f $RV_ROOT/tools/Makefile verilator [snapshot=name]`  \r\n",
      "\r\n",
      "This will create and populate the verilator *obj_dir/* in the current work dir.  \r\n",
      "\r\n",
      "**Other targets supported**:  \r\n",
      "\r\n",
      "    vcs  (Synopsys)  \r\n",
      "    irun (Cadence)  \r\n",
      "\r\n",
      "### Running a simple Hello World program (verilator)\r\n",
      "\r\n",
      "    RV_ROOT = /path/to/swerv\r\n",
      "    export RV_ROOT\r\n",
      "\r\n",
      "    make -f $RV_ROOT/tools/Makefile verilator-run\r\n",
      "\r\n",
      "This will build a verilator model of SweRV with AHB-lite bus, and execute a short sequence of instructions that writes out \"HELLO\r\n",
      "WORLD\" to the bus.\r\n",
      "\r\n",
      "You can re-execute using\r\n",
      "\r\n",
      "    ./obj_dir/Vtb_top\r\n",
      "\r\n",
      "    Start of sim\r\n",
      "\r\n",
      "    ------------------------------\r\n",
      "    Hello World from SweRV @WDC !!\r\n",
      "    ------------------------------\r\n",
      "\r\n",
      "    Finished : minstret = 389, mcycle = 1658\r\n",
      "\r\n",
      "    End of sim\r\n",
      "\r\n",
      "A vcd file `sim.vcd` is created which can be browsed by gtkwave or similar waveform viewers. `trace_port.csv` contains a log of\r\n",
      "the trace port. `exec.log` contains a basic execution trace showing PC, opcode and GPR writes.\r\n",
      "\r\n",
      "The Makefile allows you to specify different assembly files from command line\r\n",
      "     \r\n",
      "    make -f $RV_ROOT/tools/Makefile verilator-run ASM_TEST=my_hellow_world.s ASM_TEST_DIR=/path/to/dir\r\n",
      "\r\n",
      "If you change only the assembly files, you do not need to rebuild verilator, just specify the target as `program.hex` :\r\n",
      "\r\n",
      "    make -f $RV_ROOT/tools/Makefile program.hex ASM_TEST=my_hello_world.s ASM_TEST_DIR=/path/to/dir\r\n",
      "    ./obj_dir/Vtb_top\r\n",
      "\r\n",
      "### SweRV CoreMark Benchmarking\r\n",
      "We ran [CoreMark](https://www.eembc.org/coremark/) benchmark on Nexys4 board and achieved CoreMark score of **4.94**. Please see the [document](https://github.com/chipsalliance/Cores-SweRV/blob/master/docs/SweRV_CoreMark_Benchmarking.pdf) for details. \r\n",
      "\r\n",
      "----\r\n",
      "Western Digital, the Western Digital logo, G-Technology, SanDisk, Tegile, Upthere, WD, SweRV Core, SweRV ISS, and OmniXtend are registered trademarks or trademarks of Western Digital Corporation or its affiliates in the US and/or other countries. All other marks are the property of their respective owners.\r\n"
     ]
    }
   ],
   "source": [
    "!head -n 200 README.md "
   ]
  },
  {
   "cell_type": "code",
   "execution_count": 4,
   "metadata": {},
   "outputs": [
    {
     "name": "stdout",
     "output_type": "stream",
     "text": [
      "env: RV_ROOT=/home/osboxes/git/cathalmccabe/Cores-SweRV/\n",
      "/home/osboxes/git/cathalmccabe/Cores-SweRV/\r\n"
     ]
    }
   ],
   "source": [
    "%env RV_ROOT=/home/osboxes/git/cathalmccabe/Cores-SweRV/\n",
    "!echo $RV_ROOT"
   ]
  },
  {
   "cell_type": "code",
   "execution_count": 5,
   "metadata": {},
   "outputs": [
    {
     "name": "stdout",
     "output_type": "stream",
     "text": [
      "/home/osboxes/git/cathalmccabe/Cores-SweRV/\n",
      "make: Entering directory '/home/osboxes/git/cathalmccabe/Cores-SweRV/tools'\n",
      "rm -rf obj_dir *.hex build /home/osboxes/git/cathalmccabe/Cores-SweRV//configs/snapshots/default\n",
      "/home/osboxes/git/cathalmccabe/Cores-SweRV//configs/swerv.config -snapshot=default\n",
      "\n",
      "SweRV configuration for target=default\n",
      "\n",
      "swerv: dccm_enable                    = 1\n",
      "swerv: dccm_region                    = 0xf\n",
      "swerv: dccm_num_banks                 = 8\n",
      "swerv: dccm_offset                    = 0x40000\n",
      "swerv: dccm_size                      = 64\n",
      "swerv: sb_bus_tag                     = 1\n",
      "swerv: dma_bus_tag                    = 1\n",
      "swerv: ifu_bus_tag                    = 3\n",
      "swerv: nmi_vec                        = 0x11110000\n",
      "swerv: bht_size                       = 128\n",
      "swerv: bht_addr_lo                    = 4\n",
      "swerv: icache_tag_low                 = 6\n",
      "swerv: icache_enable                  = 1\n",
      "swerv: icache_size                    = 16\n",
      "swerv: btb_size                       = 32\n",
      "swerv: btb_index1_lo                  = 4\n",
      "swerv: btb_addr_lo                    = 4\n",
      "swerv: iccm_num_banks                 = 8\n",
      "swerv: iccm_region                    = 0xe\n",
      "swerv: iccm_size                      = 512\n",
      "swerv: iccm_offset                    = 0xe000000\n",
      "swerv: dma_buf_depth                  = 4\n",
      "swerv: lsu_stbuf_depth                = 8\n",
      "swerv: lsu_num_nbload                 = 8\n",
      "swerv: dec_instbuf_depth              = 4\n",
      "swerv: reset_vec                      = 0x80000000\n",
      "swerv: ret_stack_size                 = 4\n",
      "swerv: pic_meipl_offset               = 0x0000\n",
      "swerv: pic_meip_offset                = 0x1000\n",
      "swerv: pic_total_int                  = 8\n",
      "swerv: pic_meipt_offset               = 0x3004\n",
      "swerv: pic_mpiccfg_offset             = 0x3000\n",
      "swerv: pic_meigwclr_offset            = 0x5000\n",
      "swerv: pic_offset                     = 0xc0000\n",
      "swerv: pic_size                       = 32\n",
      "swerv: pic_meie_offset                = 0x2000\n",
      "swerv: pic_meigwctrl_offset           = 0x4000\n",
      "swerv: pic_region                     = 0xf\n",
      "swerv: Writing /home/osboxes/git/cathalmccabe/Cores-SweRV//configs/snapshots/default/common_defines.vh\n",
      "swerv: Writing /home/osboxes/git/cathalmccabe/Cores-SweRV//configs/snapshots/default/defines.h\n",
      "swerv: Writing /home/osboxes/git/cathalmccabe/Cores-SweRV//configs/snapshots/default/pd_defines.vh\n",
      "swerv: Writing /home/osboxes/git/cathalmccabe/Cores-SweRV//configs/snapshots/default/whisper.json\n",
      "swerv: Writing /home/osboxes/git/cathalmccabe/Cores-SweRV//configs/snapshots/default/perl_configs.pl\n",
      "echo '`undef ASSERT_ON' >> /home/osboxes/git/cathalmccabe/Cores-SweRV//configs/snapshots/default/common_defines.vh\n",
      "verilator '-UASSERT_ON' --cc -CFLAGS \"-std=c++11\" /home/osboxes/git/cathalmccabe/Cores-SweRV//configs/snapshots/default/common_defines.vh /home/osboxes/git/cathalmccabe/Cores-SweRV//design/include/build.h /home/osboxes/git/cathalmccabe/Cores-SweRV//design/include/global.h /home/osboxes/git/cathalmccabe/Cores-SweRV//design/include/swerv_types.sv  -I/home/osboxes/git/cathalmccabe/Cores-SweRV//design/include -I/home/osboxes/git/cathalmccabe/Cores-SweRV//design/lib -I/home/osboxes/git/cathalmccabe/Cores-SweRV//design/dmi -I/home/osboxes/git/cathalmccabe/Cores-SweRV//configs/snapshots/default /home/osboxes/git/cathalmccabe/Cores-SweRV//configs/snapshots/default/common_defines.vh \\\n",
      "\t-f /home/osboxes/git/cathalmccabe/Cores-SweRV//testbench/flist.verilator --top-module swerv_wrapper\n",
      "make -C obj_dir/ -f Vswerv_wrapper.mk OPT_FAST=\"\"\n",
      "make[1]: Entering directory '/home/osboxes/git/cathalmccabe/Cores-SweRV/tools/obj_dir'\n",
      "/usr/bin/perl /usr/share/verilator/bin/verilator_includer -DVL_INCLUDE_OPT=include Vswerv_wrapper.cpp Vswerv_wrapper___024unit.cpp > Vswerv_wrapper__ALLcls.cpp\n",
      "g++  -I.  -MMD -I/usr/share/verilator/include -I/usr/share/verilator/include/vltstd -DVL_PRINTF=printf -DVM_COVERAGE=0 -DVM_SC=0 -DVM_TRACE=0 -faligned-new -Wno-bool-operation -Wno-sign-compare -Wno-uninitialized -Wno-unused-but-set-variable -Wno-unused-parameter -Wno-unused-variable -Wno-shadow     -std=c++11   -c -o Vswerv_wrapper__ALLcls.o Vswerv_wrapper__ALLcls.cpp\n",
      "/usr/bin/perl /usr/share/verilator/bin/verilator_includer -DVL_INCLUDE_OPT=include Vswerv_wrapper__Syms.cpp > Vswerv_wrapper__ALLsup.cpp\n",
      "g++  -I.  -MMD -I/usr/share/verilator/include -I/usr/share/verilator/include/vltstd -DVL_PRINTF=printf -DVM_COVERAGE=0 -DVM_SC=0 -DVM_TRACE=0 -faligned-new -Wno-bool-operation -Wno-sign-compare -Wno-uninitialized -Wno-unused-but-set-variable -Wno-unused-parameter -Wno-unused-variable -Wno-shadow     -std=c++11   -c -o Vswerv_wrapper__ALLsup.o Vswerv_wrapper__ALLsup.cpp\n",
      "      Archiving Vswerv_wrapper__ALL.a ...\n",
      "ar r Vswerv_wrapper__ALL.a Vswerv_wrapper__ALLcls.o Vswerv_wrapper__ALLsup.o\n",
      "ar: creating Vswerv_wrapper__ALL.a\n",
      "ranlib Vswerv_wrapper__ALL.a\n",
      "make[1]: Leaving directory '/home/osboxes/git/cathalmccabe/Cores-SweRV/tools/obj_dir'\n",
      "make: Leaving directory '/home/osboxes/git/cathalmccabe/Cores-SweRV/tools'\n"
     ]
    }
   ],
   "source": [
    "!echo $RV_ROOT\n",
    "!make -C /home/osboxes/git/cathalmccabe/Cores-SweRV/tools/"
   ]
  },
  {
   "cell_type": "markdown",
   "metadata": {},
   "source": [
    "RUN this to execute config script \n",
    "#sudo apt-get install libjson-perl"
   ]
  },
  {
   "cell_type": "code",
   "execution_count": null,
   "metadata": {},
   "outputs": [],
   "source": [
    "!/home/osboxes/git/cathalmccabe/Cores-SweRV/configs/swerv.config -h"
   ]
  },
  {
   "cell_type": "code",
   "execution_count": null,
   "metadata": {},
   "outputs": [],
   "source": [
    "%env RV_ROOT=/home/osboxes/git/cathalmccabe/Cores-SweRV/\n",
    "!echo $RV_ROOT\n",
    "!/home/osboxes/git/cathalmccabe/Cores-SweRV/configs/swerv.config -snapshot=pynqz2  -ret_stack_size=8 -iccm_enable=0 dccm_enable=0 -fpga_optimize = 1"
   ]
  }
 ],
 "metadata": {
  "kernelspec": {
   "display_name": "Python 2",
   "language": "python",
   "name": "python2"
  },
  "language_info": {
   "codemirror_mode": {
    "name": "ipython",
    "version": 2
   },
   "file_extension": ".py",
   "mimetype": "text/x-python",
   "name": "python",
   "nbconvert_exporter": "python",
   "pygments_lexer": "ipython2",
   "version": "2.7.16"
  }
 },
 "nbformat": 4,
 "nbformat_minor": 2
}
