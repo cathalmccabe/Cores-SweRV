{
 "cells": [
  {
   "cell_type": "code",
   "execution_count": null,
   "metadata": {},
   "outputs": [],
   "source": [
    "# Create Vivado design"
   ]
  },
  {
   "cell_type": "code",
   "execution_count": null,
   "metadata": {},
   "outputs": [],
   "source": [
    "Reference design from Nexys 4\n",
    "* Seems to connect to JTAG from within core\n",
    "* Only needs UART and SRAM (dual port BRAM with one port to PYNQ)\n"
   ]
  },
  {
   "cell_type": "markdown",
   "metadata": {},
   "source": [
    "In Vivado, create a new design for the Z2\n",
    "* add the design, and config folders as source directories\n",
    "\n",
    "Create a block design, add a Zynq and configure for Z2. \n",
    "\n",
    "Add \n",
    "* common_defines.vh\n",
    "* pd_defines.vh\n",
    "\n",
    "* doing this shows global.h and consequently a large number of files have an error with undefined macros\n",
    "\n",
    "set pd_defines.h as global resolves issues\n",
    "\n",
    "------\n",
    "\n",
    ".sv can't be added to block diagram as RTL\n",
    "\n",
    "* tried making a verilog top wrapper. This seems like it could be added to the block diagram, but Vivado crashes or never finishes. This may be due to a high number of top level wires - ~500 lines of code so ~ 500 i/o ports? \n",
    "\n",
    "-------\n",
    "\n",
    "Next step, try package the IP with Verilog at top level. \n",
    "\n",
    "The code synthesizes, but ...\n",
    "\n",
    "* Setting .vh as global is not supported by IP packager. :-(\n",
    "\n",
    "Reverting brings back all the previous Macro related errors. \n",
    "\n",
    "--------\n",
    "\n",
    "This is basically a #include, so trying to manually add the includes. \n",
    "\n",
    "\n",
    "Modify build.h to `include \"pd_defines.h\"\n",
    "\n",
    "This leaves problems with 3 files\n",
    "* ahb_to_axi4.sv (is this needed?)\n",
    "* beh_lib.v (seems like a simulation module - who needs simulation when you have an FPGA!)\n",
    "* dbg.sv (Seems to be debug related. The core allows external debug tools to connect via JTAG. Likely to use the Xilinx tools via built in JTAG chain, so this may not be needed.)\n",
    "\n",
    "Can these files be removed?\n",
    "* Try moving to simulation only. \n",
    "\n",
    "-------\n",
    "\n",
    "Uh-oh. REmoving these files gives erros with three more files \n",
    "* dec.sv\n",
    "* dec_decode_ctl.sv\n",
    "* swerv_types.sv\n",
    "(We probably need these :-) )\n",
    "\n",
    "------------\n",
    "\n",
    "Quick, go back and bring back the previous errors. \n"
   ]
  },
  {
   "cell_type": "markdown",
   "metadata": {},
   "source": [
    "Do all files actually have a problem with the missing error and I'm only seeing the top three files with problems? \n",
    "---------\n",
    "\n",
    "seems not.\n",
    "\n",
    "Adding this to ahb_to_axi4.sv seems to resolve:\n",
    "```\n",
    "`include \"global.h\"\n",
    "```\n",
    "\n",
    "-------\n",
    "\n",
    "Synth fails. \n",
    "\n",
    "Add to ben_lib.sv"
   ]
  },
  {
   "cell_type": "markdown",
   "metadata": {},
   "source": [
    "pic_ctrl.sv\n",
    "\n",
    "Comment out\n",
    "\n",
    "Line 271 \n",
    "\n",
    "//      `include \"pic_ctrl_verilator_unroll.sv\"\n",
    "\n",
    "-----\n",
    "\n",
    "* add pic_map_auto.h \n",
    "\n",
    "\n",
    "-----\n",
    "\n",
    "Remove sv 'logic' in top level verilog\n",
    "\n"
   ]
  },
  {
   "cell_type": "code",
   "execution_count": null,
   "metadata": {},
   "outputs": [],
   "source": []
  },
  {
   "cell_type": "code",
   "execution_count": null,
   "metadata": {},
   "outputs": [],
   "source": []
  }
 ],
 "metadata": {
  "kernelspec": {
   "display_name": "Python 2",
   "language": "python",
   "name": "python2"
  },
  "language_info": {
   "codemirror_mode": {
    "name": "ipython",
    "version": 2
   },
   "file_extension": ".py",
   "mimetype": "text/x-python",
   "name": "python",
   "nbconvert_exporter": "python",
   "pygments_lexer": "ipython2",
   "version": "2.7.16"
  }
 },
 "nbformat": 4,
 "nbformat_minor": 2
}
